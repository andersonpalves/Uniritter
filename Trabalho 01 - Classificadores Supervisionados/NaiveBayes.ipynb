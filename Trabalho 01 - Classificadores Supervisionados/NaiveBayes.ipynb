{
 "cells": [
  {
   "cell_type": "code",
   "execution_count": 7,
   "metadata": {},
   "outputs": [],
   "source": [
    "# CENARIO 1\n",
    "# TREINAMENTO UTILIZANDO CROSS-VALIDATION\n",
    "from sklearn.naive_bayes import GaussianNB\n",
    "from sklearn.model_selection import train_test_split\n",
    "from sklearn import metrics, datasets"
   ]
  },
  {
   "cell_type": "code",
   "execution_count": 8,
   "metadata": {},
   "outputs": [
    {
     "name": "stdout",
     "output_type": "stream",
     "text": [
      "Total de 569 instancias divididas em: treino=455 e teste=114\n",
      "Total de 569 instancias divididas em: treino=455 e teste=114\n"
     ]
    }
   ],
   "source": [
    "# divisao do dataset\n",
    "dataset = datasets.load_breast_cancer()\n",
    "X = dataset.data\n",
    "y = dataset.target\n",
    "X_train, X_test, y_train, y_test = train_test_split(X, y, test_size=0.2, random_state=4)\n",
    "\n",
    "# mais utilizado, e recomendado\n",
    "print(\"Total de {0} instancias divididas em: treino={1} e teste={2}\".format(len(X),len(X_train), len(X_test)))\n",
    "\n",
    "# nao recomendado, nao use\n",
    "print(\"Total de \"+str(len(X))+\" instancias divididas em: treino=\"+str(len(X_train))+\" e teste=\"+str(len(X_test)))"
   ]
  },
  {
   "cell_type": "code",
   "execution_count": 9,
   "metadata": {},
   "outputs": [],
   "source": [
    "def main():\n",
    "    model = GaussianNB()\n",
    "    model.fit(X_train, y_train)\n",
    "    predicted = model.predict(X_test)\n",
    "    print(\"Acuracia: {0}\".format(metrics.accuracy_score(y_test,predicted)))"
   ]
  },
  {
   "cell_type": "code",
   "execution_count": 10,
   "metadata": {},
   "outputs": [
    {
     "name": "stdout",
     "output_type": "stream",
     "text": [
      "Acuracia: 0.912280701754\n"
     ]
    }
   ],
   "source": [
    "main()"
   ]
  },
  {
   "cell_type": "code",
   "execution_count": null,
   "metadata": {},
   "outputs": [],
   "source": []
  },
  {
   "cell_type": "code",
   "execution_count": 10,
   "metadata": {},
   "outputs": [],
   "source": [
    "# CENARIO 2\n",
    "# TREINAMENTO UTILIZANDO CROSS-VALIDATION\n",
    "from sklearn.model_selection import cross_val_score\n",
    "from sklearn import datasets\n",
    "import numpy as np"
   ]
  },
  {
   "cell_type": "code",
   "execution_count": 11,
   "metadata": {},
   "outputs": [],
   "source": [
    "dataset = datasets.load_breast_cancer()\n",
    "X = dataset.data\n",
    "y = dataset.target\n",
    "\n",
    "model = GaussianNB()"
   ]
  },
  {
   "cell_type": "code",
   "execution_count": 12,
   "metadata": {},
   "outputs": [],
   "source": [
    "# treinamento do modelo utilizando 5 Folds (cv=5)\n",
    "cv_scores = cross_val_score(model, X, y, cv=10)"
   ]
  },
  {
   "cell_type": "code",
   "execution_count": 13,
   "metadata": {},
   "outputs": [
    {
     "name": "stdout",
     "output_type": "stream",
     "text": [
      "[0.94827586 0.87931034 0.89473684 0.92982456 0.94736842 0.98245614\n",
      " 0.92982456 0.96428571 0.94642857 0.96428571]\n",
      "Acuracia media: 0.9386796733212339\n"
     ]
    }
   ],
   "source": [
    "print(cv_scores)\n",
    "print(\"Acuracia media: {0}\".format(np.mean(cv_scores)))"
   ]
  }
 ],
 "metadata": {
  "kernelspec": {
   "display_name": "Python 3",
   "language": "python",
   "name": "python3"
  },
  "language_info": {
   "codemirror_mode": {
    "name": "ipython",
    "version": 3
   },
   "file_extension": ".py",
   "mimetype": "text/x-python",
   "name": "python",
   "nbconvert_exporter": "python",
   "pygments_lexer": "ipython3",
   "version": "3.6.5"
  }
 },
 "nbformat": 4,
 "nbformat_minor": 2
}
