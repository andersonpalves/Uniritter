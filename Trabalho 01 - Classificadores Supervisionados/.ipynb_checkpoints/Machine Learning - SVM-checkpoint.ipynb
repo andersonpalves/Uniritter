{
 "cells": [
  {
   "cell_type": "markdown",
   "metadata": {},
   "source": [
    "# Machine Learning - SVM"
   ]
  },
  {
   "cell_type": "markdown",
   "metadata": {},
   "source": [
    "* SVM aplicado na classificação de flores e na classificação de músicas do Spotify.\n",
    "* O SVM será utilizado para criação de classificador que identifica possíveis músicas que um usuário poderia gostar.\n",
    "* Iremos treinar o algoritmo, validar o modelo e fazer tunning dos parâmetros do SVM."
   ]
  },
  {
   "cell_type": "markdown",
   "metadata": {},
   "source": [
    "## Scripts e Base de dados"
   ]
  },
  {
   "cell_type": "markdown",
   "metadata": {},
   "source": [
    "- A base de dados de **músicas do Spotify** bem como o **notebook com os scripts** dessa aula podem ser baixados em nosso Github, [aqui](https://github.com/minerandodados/mdrepo/blob/master/petr4_1_2010_11_2017.csv)\n",
    "- Base de dasos Iris, para conhecer clique [aqui](https://archive.ics.uci.edu/ml/datasets/iris)"
   ]
  },
  {
   "cell_type": "markdown",
   "metadata": {},
   "source": [
    "**Bibliotecas utilizadas**"
   ]
  },
  {
   "cell_type": "code",
   "execution_count": null,
   "metadata": {},
   "outputs": [],
   "source": [
    "from sklearn.model_selection import cross_val_predict\n",
    "from sklearn import metrics\n",
    "import matplotlib.pyplot as plt\n",
    "import pandas as pd\n",
    "import numpy as np\n",
    "from sklearn import svm"
   ]
  },
  {
   "cell_type": "markdown",
   "metadata": {
    "collapsed": true
   },
   "source": [
    "** Importando dataset Iris**"
   ]
  },
  {
   "cell_type": "code",
   "execution_count": null,
   "metadata": {},
   "outputs": [],
   "source": [
    "from sklearn import datasets"
   ]
  },
  {
   "cell_type": "code",
   "execution_count": null,
   "metadata": {},
   "outputs": [],
   "source": [
    "# Carregando o dataset para o array chamado iris\n",
    "iris = datasets.load_iris()"
   ]
  },
  {
   "cell_type": "code",
   "execution_count": null,
   "metadata": {},
   "outputs": [],
   "source": [
    "type(iris)"
   ]
  },
  {
   "cell_type": "code",
   "execution_count": null,
   "metadata": {},
   "outputs": [],
   "source": [
    "# Visualizando o nome das features\n",
    "iris.feature_names"
   ]
  },
  {
   "cell_type": "code",
   "execution_count": null,
   "metadata": {},
   "outputs": [],
   "source": [
    "# Nome das Classes\n",
    "iris.target_names"
   ]
  },
  {
   "cell_type": "code",
   "execution_count": null,
   "metadata": {},
   "outputs": [],
   "source": [
    "# Separando dados de treino.\n",
    "treino = iris.data"
   ]
  },
  {
   "cell_type": "code",
   "execution_count": null,
   "metadata": {},
   "outputs": [],
   "source": [
    "# Separando dados de classes.\n",
    "classes = iris.target"
   ]
  },
  {
   "cell_type": "code",
   "execution_count": null,
   "metadata": {},
   "outputs": [],
   "source": [
    "# Visualizando a forma do array dos dados de treino.\n",
    "# Formato (linhas,colunas).\n",
    "treino.shape"
   ]
  },
  {
   "cell_type": "code",
   "execution_count": null,
   "metadata": {},
   "outputs": [],
   "source": [
    "# Visualizando os dados de treino.\n",
    "treino[:20]"
   ]
  },
  {
   "cell_type": "code",
   "execution_count": null,
   "metadata": {},
   "outputs": [],
   "source": [
    "# Visualizando a forma do array de classes.\n",
    "classes.shape"
   ]
  },
  {
   "cell_type": "code",
   "execution_count": null,
   "metadata": {},
   "outputs": [],
   "source": [
    "# Visualizando os dados únicos do array de classes.\n",
    "set(classes)"
   ]
  },
  {
   "cell_type": "code",
   "execution_count": null,
   "metadata": {},
   "outputs": [],
   "source": [
    "# Visualizando os dados de classes.\n",
    "classes[:]"
   ]
  },
  {
   "cell_type": "markdown",
   "metadata": {},
   "source": [
    "# Visualização de dados"
   ]
  },
  {
   "cell_type": "markdown",
   "metadata": {},
   "source": [
    "* **Visualizando a disperssão de dados quanto a classe**"
   ]
  },
  {
   "cell_type": "code",
   "execution_count": null,
   "metadata": {},
   "outputs": [],
   "source": [
    "# Plota gráfico de disperssão dos dados com relação a classe.\n",
    "# Disperssão dos dados de Sepal width e Sepal Length com as classes(0,1,2)\n",
    "%matplotlib notebook\n",
    "from matplotlib import style\n",
    "style.use(\"ggplot\")\n",
    "#sepal length vs sepal width\n",
    "plt.xlabel('Sepal length')\n",
    "plt.ylabel('Sepal width')\n",
    "plt.title('Sepal width vs Sepal length')\n",
    "plt.scatter(treino[:,0],treino[:,1], c=classes)"
   ]
  },
  {
   "cell_type": "code",
   "execution_count": null,
   "metadata": {},
   "outputs": [],
   "source": [
    "# Plota gráfico de disperssão dos dados com relação a classe.\n",
    "# Disperssão dos dados de Petal width e Petal Length com as classes(0,1,2)\n",
    "%matplotlib notebook\n",
    "from matplotlib import style\n",
    "style.use(\"ggplot\")\n",
    "plt.xlabel('Petal length')\n",
    "plt.ylabel('Petal width')\n",
    "plt.title('Petal Width vs Petal Length')\n",
    "plt.scatter(treino[:,2], treino[:,3], c=classes)"
   ]
  },
  {
   "cell_type": "markdown",
   "metadata": {},
   "source": [
    "# Aplicando o SVM"
   ]
  },
  {
   "cell_type": "markdown",
   "metadata": {},
   "source": [
    "* Vamos agora aplicar o SVM para classificar flores usando a base de dados Iris."
   ]
  },
  {
   "cell_type": "code",
   "execution_count": null,
   "metadata": {},
   "outputs": [],
   "source": [
    "# Usaremos 80% dos dados para treino e 20% para teste.\n",
    "# Visualizando o tamanho dos dados de treino.\n",
    "len(treino[:-30]), len(classes[:-30])"
   ]
  },
  {
   "cell_type": "code",
   "execution_count": null,
   "metadata": {},
   "outputs": [],
   "source": [
    "# Visualizando os dados de treino\n",
    "treino[:-30]"
   ]
  },
  {
   "cell_type": "code",
   "execution_count": null,
   "metadata": {},
   "outputs": [],
   "source": [
    "# Visualiando as classes correspondentes\n",
    "classes[:-30]"
   ]
  },
  {
   "cell_type": "code",
   "execution_count": null,
   "metadata": {},
   "outputs": [],
   "source": [
    "# Treinando o algoritmo de SVM.\n",
    "clf = svm.SVC().fit(treino[:-30],classes[:-30])"
   ]
  },
  {
   "cell_type": "code",
   "execution_count": null,
   "metadata": {},
   "outputs": [],
   "source": [
    "# Objeto clf\n",
    "clf"
   ]
  },
  {
   "cell_type": "code",
   "execution_count": null,
   "metadata": {},
   "outputs": [],
   "source": [
    "# Cria um array com os dados de teste\n",
    "# 20% dos dados que não foram testados\n",
    "teste = treino[-30:]"
   ]
  },
  {
   "cell_type": "code",
   "execution_count": null,
   "metadata": {},
   "outputs": [],
   "source": [
    "# Visualizando os dados de teste\n",
    "teste"
   ]
  },
  {
   "cell_type": "code",
   "execution_count": null,
   "metadata": {},
   "outputs": [],
   "source": [
    "# Predizendo valores com a porção de dados de teste\n",
    "clf.predict(teste)"
   ]
  },
  {
   "cell_type": "code",
   "execution_count": null,
   "metadata": {},
   "outputs": [],
   "source": [
    "# Cria um array com as classes dos dados de teste.\n",
    "classes_teste = classes[-30:]"
   ]
  },
  {
   "cell_type": "code",
   "execution_count": null,
   "metadata": {},
   "outputs": [],
   "source": [
    "# Visualizando as classes de teste\n",
    "classes_teste"
   ]
  },
  {
   "cell_type": "markdown",
   "metadata": {},
   "source": [
    "## Visualizando os Resultados de Classificação"
   ]
  },
  {
   "cell_type": "code",
   "execution_count": null,
   "metadata": {},
   "outputs": [],
   "source": [
    "# Gráfico de disperssão entre as colunas Sepal Length , Sepatl width e a classe.\n",
    "# Os pontos roxos são pontos no qual o classificador errou.\n",
    "%matplotlib notebook\n",
    "from matplotlib import style\n",
    "style.use(\"ggplot\")\n",
    "plt.xlabel('Sepal length')\n",
    "plt.ylabel('Sepal width')\n",
    "plt.title('Sepal width vs Sepal length')\n",
    "plt.scatter(treino[-30:,0],treino[-30:,1], c=clf.predict(teste))"
   ]
  },
  {
   "cell_type": "code",
   "execution_count": null,
   "metadata": {},
   "outputs": [],
   "source": [
    "# Gráfico de disperssão entre as colunas Petal Length , Petal width e a classe.\n",
    "# Os pontos roxos são pontos no qual o classificador errou.\n",
    "%matplotlib notebook\n",
    "from matplotlib import style\n",
    "style.use(\"ggplot\")\n",
    "plt.xlabel('Petal length')\n",
    "plt.ylabel('Petal width')\n",
    "plt.title('Petal Width vs Length')\n",
    "plt.scatter(treino[-30:,2], treino[-30:,3], c=clf.predict(teste))"
   ]
  },
  {
   "cell_type": "code",
   "execution_count": null,
   "metadata": {},
   "outputs": [],
   "source": [
    "# Gráfico de instâncias e predição destas.\n",
    "%matplotlib notebook\n",
    "from matplotlib import style\n",
    "style.use(\"ggplot\")\n",
    "plt.xlabel('Amostras')\n",
    "plt.ylabel('Classes')\n",
    "plt.title('Classificacao do SVM')\n",
    "plt.scatter(range(len(classes_teste)),classes_teste,c=clf.predict(teste))"
   ]
  },
  {
   "cell_type": "markdown",
   "metadata": {},
   "source": [
    "# Matriz de Confusão"
   ]
  },
  {
   "cell_type": "code",
   "execution_count": null,
   "metadata": {},
   "outputs": [],
   "source": [
    "print (pd.crosstab(classes_teste,clf.predict(teste),rownames=['Real'], colnames=['Predito'], margins=True),'')"
   ]
  },
  {
   "cell_type": "markdown",
   "metadata": {},
   "source": [
    "# Cross Validation"
   ]
  },
  {
   "cell_type": "code",
   "execution_count": null,
   "metadata": {},
   "outputs": [],
   "source": [
    "# Função que retorna a acurácia após fazer um validação cruzada (cross validation)\n",
    "def Acuracia(clf,X,y):\n",
    "    resultados = cross_val_predict(clf, X, y, cv=10)\n",
    "    return metrics.accuracy_score(y,resultados)"
   ]
  },
  {
   "cell_type": "code",
   "execution_count": null,
   "metadata": {},
   "outputs": [],
   "source": [
    "Acuracia(clf,treino,classes)"
   ]
  },
  {
   "cell_type": "markdown",
   "metadata": {},
   "source": [
    "# Métricas de Avaliação"
   ]
  },
  {
   "cell_type": "code",
   "execution_count": null,
   "metadata": {},
   "outputs": [],
   "source": [
    "# Imprime as métricas: 'precisão, revocação e Medida F1.\n",
    "resultados = cross_val_predict(clf,treino, classes, cv=10)\n",
    "valor_classes = [0,1,2]\n",
    "print (metrics.classification_report(classes,resultados,valor_classes))"
   ]
  },
  {
   "cell_type": "markdown",
   "metadata": {},
   "source": [
    "# Base de dados de músicas do Spotify"
   ]
  },
  {
   "cell_type": "code",
   "execution_count": 7,
   "metadata": {},
   "outputs": [],
   "source": [
    "# Informações das Features da Base de dados.\n",
    "# https://developer.spotify.com/web-api/get-audio-features/\n",
    "\n",
    "from sklearn.model_selection import cross_val_predict\n",
    "from sklearn import metrics\n",
    "import matplotlib.pyplot as plt\n",
    "import pandas as pd\n",
    "import numpy as np\n",
    "from sklearn import svm"
   ]
  },
  {
   "cell_type": "code",
   "execution_count": 8,
   "metadata": {},
   "outputs": [],
   "source": [
    "import pandas as pd\n",
    "dataset = pd.read_csv('datasets/spotify.csv', sep=',')"
   ]
  },
  {
   "cell_type": "code",
   "execution_count": 9,
   "metadata": {},
   "outputs": [
    {
     "data": {
      "text/html": [
       "<div>\n",
       "<style scoped>\n",
       "    .dataframe tbody tr th:only-of-type {\n",
       "        vertical-align: middle;\n",
       "    }\n",
       "\n",
       "    .dataframe tbody tr th {\n",
       "        vertical-align: top;\n",
       "    }\n",
       "\n",
       "    .dataframe thead th {\n",
       "        text-align: right;\n",
       "    }\n",
       "</style>\n",
       "<table border=\"1\" class=\"dataframe\">\n",
       "  <thead>\n",
       "    <tr style=\"text-align: right;\">\n",
       "      <th></th>\n",
       "      <th>id</th>\n",
       "      <th>acousticness</th>\n",
       "      <th>danceability</th>\n",
       "      <th>duration_ms</th>\n",
       "      <th>energy</th>\n",
       "      <th>instrumentalness</th>\n",
       "      <th>key</th>\n",
       "      <th>liveness</th>\n",
       "      <th>loudness</th>\n",
       "      <th>mode</th>\n",
       "      <th>speechiness</th>\n",
       "      <th>tempo</th>\n",
       "      <th>time_signature</th>\n",
       "      <th>valence</th>\n",
       "      <th>target</th>\n",
       "      <th>song_title</th>\n",
       "      <th>artist</th>\n",
       "    </tr>\n",
       "  </thead>\n",
       "  <tbody>\n",
       "    <tr>\n",
       "      <th>0</th>\n",
       "      <td>0</td>\n",
       "      <td>0.0102</td>\n",
       "      <td>0.833</td>\n",
       "      <td>204600</td>\n",
       "      <td>0.434</td>\n",
       "      <td>0.021900</td>\n",
       "      <td>2</td>\n",
       "      <td>0.1650</td>\n",
       "      <td>-8.795</td>\n",
       "      <td>1</td>\n",
       "      <td>0.4310</td>\n",
       "      <td>150.062</td>\n",
       "      <td>4.0</td>\n",
       "      <td>0.286</td>\n",
       "      <td>1</td>\n",
       "      <td>Mask Off</td>\n",
       "      <td>Future</td>\n",
       "    </tr>\n",
       "    <tr>\n",
       "      <th>1</th>\n",
       "      <td>1</td>\n",
       "      <td>0.1990</td>\n",
       "      <td>0.743</td>\n",
       "      <td>326933</td>\n",
       "      <td>0.359</td>\n",
       "      <td>0.006110</td>\n",
       "      <td>1</td>\n",
       "      <td>0.1370</td>\n",
       "      <td>-10.401</td>\n",
       "      <td>1</td>\n",
       "      <td>0.0794</td>\n",
       "      <td>160.083</td>\n",
       "      <td>4.0</td>\n",
       "      <td>0.588</td>\n",
       "      <td>1</td>\n",
       "      <td>Redbone</td>\n",
       "      <td>Childish Gambino</td>\n",
       "    </tr>\n",
       "    <tr>\n",
       "      <th>2</th>\n",
       "      <td>2</td>\n",
       "      <td>0.0344</td>\n",
       "      <td>0.838</td>\n",
       "      <td>185707</td>\n",
       "      <td>0.412</td>\n",
       "      <td>0.000234</td>\n",
       "      <td>2</td>\n",
       "      <td>0.1590</td>\n",
       "      <td>-7.148</td>\n",
       "      <td>1</td>\n",
       "      <td>0.2890</td>\n",
       "      <td>75.044</td>\n",
       "      <td>4.0</td>\n",
       "      <td>0.173</td>\n",
       "      <td>1</td>\n",
       "      <td>Xanny Family</td>\n",
       "      <td>Future</td>\n",
       "    </tr>\n",
       "    <tr>\n",
       "      <th>3</th>\n",
       "      <td>3</td>\n",
       "      <td>0.6040</td>\n",
       "      <td>0.494</td>\n",
       "      <td>199413</td>\n",
       "      <td>0.338</td>\n",
       "      <td>0.510000</td>\n",
       "      <td>5</td>\n",
       "      <td>0.0922</td>\n",
       "      <td>-15.236</td>\n",
       "      <td>1</td>\n",
       "      <td>0.0261</td>\n",
       "      <td>86.468</td>\n",
       "      <td>4.0</td>\n",
       "      <td>0.230</td>\n",
       "      <td>1</td>\n",
       "      <td>Master Of None</td>\n",
       "      <td>Beach House</td>\n",
       "    </tr>\n",
       "    <tr>\n",
       "      <th>4</th>\n",
       "      <td>4</td>\n",
       "      <td>0.1800</td>\n",
       "      <td>0.678</td>\n",
       "      <td>392893</td>\n",
       "      <td>0.561</td>\n",
       "      <td>0.512000</td>\n",
       "      <td>5</td>\n",
       "      <td>0.4390</td>\n",
       "      <td>-11.648</td>\n",
       "      <td>0</td>\n",
       "      <td>0.0694</td>\n",
       "      <td>174.004</td>\n",
       "      <td>4.0</td>\n",
       "      <td>0.904</td>\n",
       "      <td>1</td>\n",
       "      <td>Parallel Lines</td>\n",
       "      <td>Junior Boys</td>\n",
       "    </tr>\n",
       "  </tbody>\n",
       "</table>\n",
       "</div>"
      ],
      "text/plain": [
       "   id  acousticness  danceability  duration_ms  energy  instrumentalness  key  \\\n",
       "0   0        0.0102         0.833       204600   0.434          0.021900    2   \n",
       "1   1        0.1990         0.743       326933   0.359          0.006110    1   \n",
       "2   2        0.0344         0.838       185707   0.412          0.000234    2   \n",
       "3   3        0.6040         0.494       199413   0.338          0.510000    5   \n",
       "4   4        0.1800         0.678       392893   0.561          0.512000    5   \n",
       "\n",
       "   liveness  loudness  mode  speechiness    tempo  time_signature  valence  \\\n",
       "0    0.1650    -8.795     1       0.4310  150.062             4.0    0.286   \n",
       "1    0.1370   -10.401     1       0.0794  160.083             4.0    0.588   \n",
       "2    0.1590    -7.148     1       0.2890   75.044             4.0    0.173   \n",
       "3    0.0922   -15.236     1       0.0261   86.468             4.0    0.230   \n",
       "4    0.4390   -11.648     0       0.0694  174.004             4.0    0.904   \n",
       "\n",
       "   target      song_title            artist  \n",
       "0       1        Mask Off            Future  \n",
       "1       1         Redbone  Childish Gambino  \n",
       "2       1    Xanny Family            Future  \n",
       "3       1  Master Of None       Beach House  \n",
       "4       1  Parallel Lines       Junior Boys  "
      ]
     },
     "execution_count": 9,
     "metadata": {},
     "output_type": "execute_result"
    }
   ],
   "source": [
    "dataset.head()"
   ]
  },
  {
   "cell_type": "code",
   "execution_count": null,
   "metadata": {},
   "outputs": [],
   "source": []
  },
  {
   "cell_type": "markdown",
   "metadata": {},
   "source": [
    "# Análise de Dados"
   ]
  },
  {
   "cell_type": "code",
   "execution_count": 10,
   "metadata": {},
   "outputs": [
    {
     "data": {
      "text/plain": [
       "id                  0\n",
       "acousticness        0\n",
       "danceability        0\n",
       "duration_ms         0\n",
       "energy              0\n",
       "instrumentalness    0\n",
       "key                 0\n",
       "liveness            0\n",
       "loudness            0\n",
       "mode                0\n",
       "speechiness         0\n",
       "tempo               0\n",
       "time_signature      0\n",
       "valence             0\n",
       "target              0\n",
       "song_title          0\n",
       "artist              0\n",
       "dtype: int64"
      ]
     },
     "execution_count": 10,
     "metadata": {},
     "output_type": "execute_result"
    }
   ],
   "source": [
    "#Checando valores Missing\n",
    "dataset.isnull().sum()"
   ]
  },
  {
   "cell_type": "code",
   "execution_count": 11,
   "metadata": {
    "scrolled": true
   },
   "outputs": [
    {
     "data": {
      "text/html": [
       "<div>\n",
       "<style scoped>\n",
       "    .dataframe tbody tr th:only-of-type {\n",
       "        vertical-align: middle;\n",
       "    }\n",
       "\n",
       "    .dataframe tbody tr th {\n",
       "        vertical-align: top;\n",
       "    }\n",
       "\n",
       "    .dataframe thead th {\n",
       "        text-align: right;\n",
       "    }\n",
       "</style>\n",
       "<table border=\"1\" class=\"dataframe\">\n",
       "  <thead>\n",
       "    <tr style=\"text-align: right;\">\n",
       "      <th></th>\n",
       "      <th>id</th>\n",
       "      <th>acousticness</th>\n",
       "      <th>danceability</th>\n",
       "      <th>duration_ms</th>\n",
       "      <th>energy</th>\n",
       "      <th>instrumentalness</th>\n",
       "      <th>key</th>\n",
       "      <th>liveness</th>\n",
       "      <th>loudness</th>\n",
       "      <th>mode</th>\n",
       "      <th>speechiness</th>\n",
       "      <th>tempo</th>\n",
       "      <th>time_signature</th>\n",
       "      <th>valence</th>\n",
       "      <th>target</th>\n",
       "    </tr>\n",
       "  </thead>\n",
       "  <tbody>\n",
       "    <tr>\n",
       "      <th>count</th>\n",
       "      <td>2017.000000</td>\n",
       "      <td>2017.000000</td>\n",
       "      <td>2017.000000</td>\n",
       "      <td>2.017000e+03</td>\n",
       "      <td>2017.000000</td>\n",
       "      <td>2017.000000</td>\n",
       "      <td>2017.000000</td>\n",
       "      <td>2017.000000</td>\n",
       "      <td>2017.000000</td>\n",
       "      <td>2017.000000</td>\n",
       "      <td>2017.000000</td>\n",
       "      <td>2017.000000</td>\n",
       "      <td>2017.000000</td>\n",
       "      <td>2017.000000</td>\n",
       "      <td>2017.000000</td>\n",
       "    </tr>\n",
       "    <tr>\n",
       "      <th>mean</th>\n",
       "      <td>1008.000000</td>\n",
       "      <td>0.187590</td>\n",
       "      <td>0.618422</td>\n",
       "      <td>2.463062e+05</td>\n",
       "      <td>0.681577</td>\n",
       "      <td>0.133286</td>\n",
       "      <td>5.342588</td>\n",
       "      <td>0.190844</td>\n",
       "      <td>-7.085624</td>\n",
       "      <td>0.612295</td>\n",
       "      <td>0.092664</td>\n",
       "      <td>121.603272</td>\n",
       "      <td>3.968270</td>\n",
       "      <td>0.496815</td>\n",
       "      <td>0.505702</td>\n",
       "    </tr>\n",
       "    <tr>\n",
       "      <th>std</th>\n",
       "      <td>582.402066</td>\n",
       "      <td>0.259989</td>\n",
       "      <td>0.161029</td>\n",
       "      <td>8.198181e+04</td>\n",
       "      <td>0.210273</td>\n",
       "      <td>0.273162</td>\n",
       "      <td>3.648240</td>\n",
       "      <td>0.155453</td>\n",
       "      <td>3.761684</td>\n",
       "      <td>0.487347</td>\n",
       "      <td>0.089931</td>\n",
       "      <td>26.685604</td>\n",
       "      <td>0.255853</td>\n",
       "      <td>0.247195</td>\n",
       "      <td>0.500091</td>\n",
       "    </tr>\n",
       "    <tr>\n",
       "      <th>min</th>\n",
       "      <td>0.000000</td>\n",
       "      <td>0.000003</td>\n",
       "      <td>0.122000</td>\n",
       "      <td>1.604200e+04</td>\n",
       "      <td>0.014800</td>\n",
       "      <td>0.000000</td>\n",
       "      <td>0.000000</td>\n",
       "      <td>0.018800</td>\n",
       "      <td>-33.097000</td>\n",
       "      <td>0.000000</td>\n",
       "      <td>0.023100</td>\n",
       "      <td>47.859000</td>\n",
       "      <td>1.000000</td>\n",
       "      <td>0.034800</td>\n",
       "      <td>0.000000</td>\n",
       "    </tr>\n",
       "    <tr>\n",
       "      <th>25%</th>\n",
       "      <td>504.000000</td>\n",
       "      <td>0.009630</td>\n",
       "      <td>0.514000</td>\n",
       "      <td>2.000150e+05</td>\n",
       "      <td>0.563000</td>\n",
       "      <td>0.000000</td>\n",
       "      <td>2.000000</td>\n",
       "      <td>0.092300</td>\n",
       "      <td>-8.394000</td>\n",
       "      <td>0.000000</td>\n",
       "      <td>0.037500</td>\n",
       "      <td>100.189000</td>\n",
       "      <td>4.000000</td>\n",
       "      <td>0.295000</td>\n",
       "      <td>0.000000</td>\n",
       "    </tr>\n",
       "    <tr>\n",
       "      <th>50%</th>\n",
       "      <td>1008.000000</td>\n",
       "      <td>0.063300</td>\n",
       "      <td>0.631000</td>\n",
       "      <td>2.292610e+05</td>\n",
       "      <td>0.715000</td>\n",
       "      <td>0.000076</td>\n",
       "      <td>6.000000</td>\n",
       "      <td>0.127000</td>\n",
       "      <td>-6.248000</td>\n",
       "      <td>1.000000</td>\n",
       "      <td>0.054900</td>\n",
       "      <td>121.427000</td>\n",
       "      <td>4.000000</td>\n",
       "      <td>0.492000</td>\n",
       "      <td>1.000000</td>\n",
       "    </tr>\n",
       "    <tr>\n",
       "      <th>75%</th>\n",
       "      <td>1512.000000</td>\n",
       "      <td>0.265000</td>\n",
       "      <td>0.738000</td>\n",
       "      <td>2.703330e+05</td>\n",
       "      <td>0.846000</td>\n",
       "      <td>0.054000</td>\n",
       "      <td>9.000000</td>\n",
       "      <td>0.247000</td>\n",
       "      <td>-4.746000</td>\n",
       "      <td>1.000000</td>\n",
       "      <td>0.108000</td>\n",
       "      <td>137.849000</td>\n",
       "      <td>4.000000</td>\n",
       "      <td>0.691000</td>\n",
       "      <td>1.000000</td>\n",
       "    </tr>\n",
       "    <tr>\n",
       "      <th>max</th>\n",
       "      <td>2016.000000</td>\n",
       "      <td>0.995000</td>\n",
       "      <td>0.984000</td>\n",
       "      <td>1.004627e+06</td>\n",
       "      <td>0.998000</td>\n",
       "      <td>0.976000</td>\n",
       "      <td>11.000000</td>\n",
       "      <td>0.969000</td>\n",
       "      <td>-0.307000</td>\n",
       "      <td>1.000000</td>\n",
       "      <td>0.816000</td>\n",
       "      <td>219.331000</td>\n",
       "      <td>5.000000</td>\n",
       "      <td>0.992000</td>\n",
       "      <td>1.000000</td>\n",
       "    </tr>\n",
       "  </tbody>\n",
       "</table>\n",
       "</div>"
      ],
      "text/plain": [
       "                id  acousticness  danceability   duration_ms       energy  \\\n",
       "count  2017.000000   2017.000000   2017.000000  2.017000e+03  2017.000000   \n",
       "mean   1008.000000      0.187590      0.618422  2.463062e+05     0.681577   \n",
       "std     582.402066      0.259989      0.161029  8.198181e+04     0.210273   \n",
       "min       0.000000      0.000003      0.122000  1.604200e+04     0.014800   \n",
       "25%     504.000000      0.009630      0.514000  2.000150e+05     0.563000   \n",
       "50%    1008.000000      0.063300      0.631000  2.292610e+05     0.715000   \n",
       "75%    1512.000000      0.265000      0.738000  2.703330e+05     0.846000   \n",
       "max    2016.000000      0.995000      0.984000  1.004627e+06     0.998000   \n",
       "\n",
       "       instrumentalness          key     liveness     loudness         mode  \\\n",
       "count       2017.000000  2017.000000  2017.000000  2017.000000  2017.000000   \n",
       "mean           0.133286     5.342588     0.190844    -7.085624     0.612295   \n",
       "std            0.273162     3.648240     0.155453     3.761684     0.487347   \n",
       "min            0.000000     0.000000     0.018800   -33.097000     0.000000   \n",
       "25%            0.000000     2.000000     0.092300    -8.394000     0.000000   \n",
       "50%            0.000076     6.000000     0.127000    -6.248000     1.000000   \n",
       "75%            0.054000     9.000000     0.247000    -4.746000     1.000000   \n",
       "max            0.976000    11.000000     0.969000    -0.307000     1.000000   \n",
       "\n",
       "       speechiness        tempo  time_signature      valence       target  \n",
       "count  2017.000000  2017.000000     2017.000000  2017.000000  2017.000000  \n",
       "mean      0.092664   121.603272        3.968270     0.496815     0.505702  \n",
       "std       0.089931    26.685604        0.255853     0.247195     0.500091  \n",
       "min       0.023100    47.859000        1.000000     0.034800     0.000000  \n",
       "25%       0.037500   100.189000        4.000000     0.295000     0.000000  \n",
       "50%       0.054900   121.427000        4.000000     0.492000     1.000000  \n",
       "75%       0.108000   137.849000        4.000000     0.691000     1.000000  \n",
       "max       0.816000   219.331000        5.000000     0.992000     1.000000  "
      ]
     },
     "execution_count": 11,
     "metadata": {},
     "output_type": "execute_result"
    }
   ],
   "source": [
    "# Resumo Estatístico da base\n",
    "# Somente dados numéricos\n",
    "dataset.describe()"
   ]
  },
  {
   "cell_type": "code",
   "execution_count": 13,
   "metadata": {},
   "outputs": [
    {
     "data": {
      "text/plain": [
       "['seaborn-dark',\n",
       " 'seaborn-darkgrid',\n",
       " 'seaborn-ticks',\n",
       " 'fivethirtyeight',\n",
       " 'seaborn-whitegrid',\n",
       " 'classic',\n",
       " '_classic_test',\n",
       " 'fast',\n",
       " 'seaborn-talk',\n",
       " 'seaborn-dark-palette',\n",
       " 'seaborn-bright',\n",
       " 'seaborn-pastel',\n",
       " 'grayscale',\n",
       " 'seaborn-notebook',\n",
       " 'ggplot',\n",
       " 'seaborn-colorblind',\n",
       " 'seaborn-muted',\n",
       " 'seaborn',\n",
       " 'Solarize_Light2',\n",
       " 'seaborn-paper',\n",
       " 'bmh',\n",
       " 'tableau-colorblind10',\n",
       " 'seaborn-white',\n",
       " 'dark_background',\n",
       " 'seaborn-poster',\n",
       " 'seaborn-deep']"
      ]
     },
     "execution_count": 13,
     "metadata": {},
     "output_type": "execute_result"
    }
   ],
   "source": [
    " # lista estilos disponíveis do Matplotlib\n",
    "plt.style.available"
   ]
  },
  {
   "cell_type": "code",
   "execution_count": 14,
   "metadata": {},
   "outputs": [
    {
     "data": {
      "application/javascript": [
       "/* Put everything inside the global mpl namespace */\n",
       "window.mpl = {};\n",
       "\n",
       "\n",
       "mpl.get_websocket_type = function() {\n",
       "    if (typeof(WebSocket) !== 'undefined') {\n",
       "        return WebSocket;\n",
       "    } else if (typeof(MozWebSocket) !== 'undefined') {\n",
       "        return MozWebSocket;\n",
       "    } else {\n",
       "        alert('Your browser does not have WebSocket support.' +\n",
       "              'Please try Chrome, Safari or Firefox ≥ 6. ' +\n",
       "              'Firefox 4 and 5 are also supported but you ' +\n",
       "              'have to enable WebSockets in about:config.');\n",
       "    };\n",
       "}\n",
       "\n",
       "mpl.figure = function(figure_id, websocket, ondownload, parent_element) {\n",
       "    this.id = figure_id;\n",
       "\n",
       "    this.ws = websocket;\n",
       "\n",
       "    this.supports_binary = (this.ws.binaryType != undefined);\n",
       "\n",
       "    if (!this.supports_binary) {\n",
       "        var warnings = document.getElementById(\"mpl-warnings\");\n",
       "        if (warnings) {\n",
       "            warnings.style.display = 'block';\n",
       "            warnings.textContent = (\n",
       "                \"This browser does not support binary websocket messages. \" +\n",
       "                    \"Performance may be slow.\");\n",
       "        }\n",
       "    }\n",
       "\n",
       "    this.imageObj = new Image();\n",
       "\n",
       "    this.context = undefined;\n",
       "    this.message = undefined;\n",
       "    this.canvas = undefined;\n",
       "    this.rubberband_canvas = undefined;\n",
       "    this.rubberband_context = undefined;\n",
       "    this.format_dropdown = undefined;\n",
       "\n",
       "    this.image_mode = 'full';\n",
       "\n",
       "    this.root = $('<div/>');\n",
       "    this._root_extra_style(this.root)\n",
       "    this.root.attr('style', 'display: inline-block');\n",
       "\n",
       "    $(parent_element).append(this.root);\n",
       "\n",
       "    this._init_header(this);\n",
       "    this._init_canvas(this);\n",
       "    this._init_toolbar(this);\n",
       "\n",
       "    var fig = this;\n",
       "\n",
       "    this.waiting = false;\n",
       "\n",
       "    this.ws.onopen =  function () {\n",
       "            fig.send_message(\"supports_binary\", {value: fig.supports_binary});\n",
       "            fig.send_message(\"send_image_mode\", {});\n",
       "            if (mpl.ratio != 1) {\n",
       "                fig.send_message(\"set_dpi_ratio\", {'dpi_ratio': mpl.ratio});\n",
       "            }\n",
       "            fig.send_message(\"refresh\", {});\n",
       "        }\n",
       "\n",
       "    this.imageObj.onload = function() {\n",
       "            if (fig.image_mode == 'full') {\n",
       "                // Full images could contain transparency (where diff images\n",
       "                // almost always do), so we need to clear the canvas so that\n",
       "                // there is no ghosting.\n",
       "                fig.context.clearRect(0, 0, fig.canvas.width, fig.canvas.height);\n",
       "            }\n",
       "            fig.context.drawImage(fig.imageObj, 0, 0);\n",
       "        };\n",
       "\n",
       "    this.imageObj.onunload = function() {\n",
       "        fig.ws.close();\n",
       "    }\n",
       "\n",
       "    this.ws.onmessage = this._make_on_message_function(this);\n",
       "\n",
       "    this.ondownload = ondownload;\n",
       "}\n",
       "\n",
       "mpl.figure.prototype._init_header = function() {\n",
       "    var titlebar = $(\n",
       "        '<div class=\"ui-dialog-titlebar ui-widget-header ui-corner-all ' +\n",
       "        'ui-helper-clearfix\"/>');\n",
       "    var titletext = $(\n",
       "        '<div class=\"ui-dialog-title\" style=\"width: 100%; ' +\n",
       "        'text-align: center; padding: 3px;\"/>');\n",
       "    titlebar.append(titletext)\n",
       "    this.root.append(titlebar);\n",
       "    this.header = titletext[0];\n",
       "}\n",
       "\n",
       "\n",
       "\n",
       "mpl.figure.prototype._canvas_extra_style = function(canvas_div) {\n",
       "\n",
       "}\n",
       "\n",
       "\n",
       "mpl.figure.prototype._root_extra_style = function(canvas_div) {\n",
       "\n",
       "}\n",
       "\n",
       "mpl.figure.prototype._init_canvas = function() {\n",
       "    var fig = this;\n",
       "\n",
       "    var canvas_div = $('<div/>');\n",
       "\n",
       "    canvas_div.attr('style', 'position: relative; clear: both; outline: 0');\n",
       "\n",
       "    function canvas_keyboard_event(event) {\n",
       "        return fig.key_event(event, event['data']);\n",
       "    }\n",
       "\n",
       "    canvas_div.keydown('key_press', canvas_keyboard_event);\n",
       "    canvas_div.keyup('key_release', canvas_keyboard_event);\n",
       "    this.canvas_div = canvas_div\n",
       "    this._canvas_extra_style(canvas_div)\n",
       "    this.root.append(canvas_div);\n",
       "\n",
       "    var canvas = $('<canvas/>');\n",
       "    canvas.addClass('mpl-canvas');\n",
       "    canvas.attr('style', \"left: 0; top: 0; z-index: 0; outline: 0\")\n",
       "\n",
       "    this.canvas = canvas[0];\n",
       "    this.context = canvas[0].getContext(\"2d\");\n",
       "\n",
       "    var backingStore = this.context.backingStorePixelRatio ||\n",
       "\tthis.context.webkitBackingStorePixelRatio ||\n",
       "\tthis.context.mozBackingStorePixelRatio ||\n",
       "\tthis.context.msBackingStorePixelRatio ||\n",
       "\tthis.context.oBackingStorePixelRatio ||\n",
       "\tthis.context.backingStorePixelRatio || 1;\n",
       "\n",
       "    mpl.ratio = (window.devicePixelRatio || 1) / backingStore;\n",
       "\n",
       "    var rubberband = $('<canvas/>');\n",
       "    rubberband.attr('style', \"position: absolute; left: 0; top: 0; z-index: 1;\")\n",
       "\n",
       "    var pass_mouse_events = true;\n",
       "\n",
       "    canvas_div.resizable({\n",
       "        start: function(event, ui) {\n",
       "            pass_mouse_events = false;\n",
       "        },\n",
       "        resize: function(event, ui) {\n",
       "            fig.request_resize(ui.size.width, ui.size.height);\n",
       "        },\n",
       "        stop: function(event, ui) {\n",
       "            pass_mouse_events = true;\n",
       "            fig.request_resize(ui.size.width, ui.size.height);\n",
       "        },\n",
       "    });\n",
       "\n",
       "    function mouse_event_fn(event) {\n",
       "        if (pass_mouse_events)\n",
       "            return fig.mouse_event(event, event['data']);\n",
       "    }\n",
       "\n",
       "    rubberband.mousedown('button_press', mouse_event_fn);\n",
       "    rubberband.mouseup('button_release', mouse_event_fn);\n",
       "    // Throttle sequential mouse events to 1 every 20ms.\n",
       "    rubberband.mousemove('motion_notify', mouse_event_fn);\n",
       "\n",
       "    rubberband.mouseenter('figure_enter', mouse_event_fn);\n",
       "    rubberband.mouseleave('figure_leave', mouse_event_fn);\n",
       "\n",
       "    canvas_div.on(\"wheel\", function (event) {\n",
       "        event = event.originalEvent;\n",
       "        event['data'] = 'scroll'\n",
       "        if (event.deltaY < 0) {\n",
       "            event.step = 1;\n",
       "        } else {\n",
       "            event.step = -1;\n",
       "        }\n",
       "        mouse_event_fn(event);\n",
       "    });\n",
       "\n",
       "    canvas_div.append(canvas);\n",
       "    canvas_div.append(rubberband);\n",
       "\n",
       "    this.rubberband = rubberband;\n",
       "    this.rubberband_canvas = rubberband[0];\n",
       "    this.rubberband_context = rubberband[0].getContext(\"2d\");\n",
       "    this.rubberband_context.strokeStyle = \"#000000\";\n",
       "\n",
       "    this._resize_canvas = function(width, height) {\n",
       "        // Keep the size of the canvas, canvas container, and rubber band\n",
       "        // canvas in synch.\n",
       "        canvas_div.css('width', width)\n",
       "        canvas_div.css('height', height)\n",
       "\n",
       "        canvas.attr('width', width * mpl.ratio);\n",
       "        canvas.attr('height', height * mpl.ratio);\n",
       "        canvas.attr('style', 'width: ' + width + 'px; height: ' + height + 'px;');\n",
       "\n",
       "        rubberband.attr('width', width);\n",
       "        rubberband.attr('height', height);\n",
       "    }\n",
       "\n",
       "    // Set the figure to an initial 600x600px, this will subsequently be updated\n",
       "    // upon first draw.\n",
       "    this._resize_canvas(600, 600);\n",
       "\n",
       "    // Disable right mouse context menu.\n",
       "    $(this.rubberband_canvas).bind(\"contextmenu\",function(e){\n",
       "        return false;\n",
       "    });\n",
       "\n",
       "    function set_focus () {\n",
       "        canvas.focus();\n",
       "        canvas_div.focus();\n",
       "    }\n",
       "\n",
       "    window.setTimeout(set_focus, 100);\n",
       "}\n",
       "\n",
       "mpl.figure.prototype._init_toolbar = function() {\n",
       "    var fig = this;\n",
       "\n",
       "    var nav_element = $('<div/>')\n",
       "    nav_element.attr('style', 'width: 100%');\n",
       "    this.root.append(nav_element);\n",
       "\n",
       "    // Define a callback function for later on.\n",
       "    function toolbar_event(event) {\n",
       "        return fig.toolbar_button_onclick(event['data']);\n",
       "    }\n",
       "    function toolbar_mouse_event(event) {\n",
       "        return fig.toolbar_button_onmouseover(event['data']);\n",
       "    }\n",
       "\n",
       "    for(var toolbar_ind in mpl.toolbar_items) {\n",
       "        var name = mpl.toolbar_items[toolbar_ind][0];\n",
       "        var tooltip = mpl.toolbar_items[toolbar_ind][1];\n",
       "        var image = mpl.toolbar_items[toolbar_ind][2];\n",
       "        var method_name = mpl.toolbar_items[toolbar_ind][3];\n",
       "\n",
       "        if (!name) {\n",
       "            // put a spacer in here.\n",
       "            continue;\n",
       "        }\n",
       "        var button = $('<button/>');\n",
       "        button.addClass('ui-button ui-widget ui-state-default ui-corner-all ' +\n",
       "                        'ui-button-icon-only');\n",
       "        button.attr('role', 'button');\n",
       "        button.attr('aria-disabled', 'false');\n",
       "        button.click(method_name, toolbar_event);\n",
       "        button.mouseover(tooltip, toolbar_mouse_event);\n",
       "\n",
       "        var icon_img = $('<span/>');\n",
       "        icon_img.addClass('ui-button-icon-primary ui-icon');\n",
       "        icon_img.addClass(image);\n",
       "        icon_img.addClass('ui-corner-all');\n",
       "\n",
       "        var tooltip_span = $('<span/>');\n",
       "        tooltip_span.addClass('ui-button-text');\n",
       "        tooltip_span.html(tooltip);\n",
       "\n",
       "        button.append(icon_img);\n",
       "        button.append(tooltip_span);\n",
       "\n",
       "        nav_element.append(button);\n",
       "    }\n",
       "\n",
       "    var fmt_picker_span = $('<span/>');\n",
       "\n",
       "    var fmt_picker = $('<select/>');\n",
       "    fmt_picker.addClass('mpl-toolbar-option ui-widget ui-widget-content');\n",
       "    fmt_picker_span.append(fmt_picker);\n",
       "    nav_element.append(fmt_picker_span);\n",
       "    this.format_dropdown = fmt_picker[0];\n",
       "\n",
       "    for (var ind in mpl.extensions) {\n",
       "        var fmt = mpl.extensions[ind];\n",
       "        var option = $(\n",
       "            '<option/>', {selected: fmt === mpl.default_extension}).html(fmt);\n",
       "        fmt_picker.append(option)\n",
       "    }\n",
       "\n",
       "    // Add hover states to the ui-buttons\n",
       "    $( \".ui-button\" ).hover(\n",
       "        function() { $(this).addClass(\"ui-state-hover\");},\n",
       "        function() { $(this).removeClass(\"ui-state-hover\");}\n",
       "    );\n",
       "\n",
       "    var status_bar = $('<span class=\"mpl-message\"/>');\n",
       "    nav_element.append(status_bar);\n",
       "    this.message = status_bar[0];\n",
       "}\n",
       "\n",
       "mpl.figure.prototype.request_resize = function(x_pixels, y_pixels) {\n",
       "    // Request matplotlib to resize the figure. Matplotlib will then trigger a resize in the client,\n",
       "    // which will in turn request a refresh of the image.\n",
       "    this.send_message('resize', {'width': x_pixels, 'height': y_pixels});\n",
       "}\n",
       "\n",
       "mpl.figure.prototype.send_message = function(type, properties) {\n",
       "    properties['type'] = type;\n",
       "    properties['figure_id'] = this.id;\n",
       "    this.ws.send(JSON.stringify(properties));\n",
       "}\n",
       "\n",
       "mpl.figure.prototype.send_draw_message = function() {\n",
       "    if (!this.waiting) {\n",
       "        this.waiting = true;\n",
       "        this.ws.send(JSON.stringify({type: \"draw\", figure_id: this.id}));\n",
       "    }\n",
       "}\n",
       "\n",
       "\n",
       "mpl.figure.prototype.handle_save = function(fig, msg) {\n",
       "    var format_dropdown = fig.format_dropdown;\n",
       "    var format = format_dropdown.options[format_dropdown.selectedIndex].value;\n",
       "    fig.ondownload(fig, format);\n",
       "}\n",
       "\n",
       "\n",
       "mpl.figure.prototype.handle_resize = function(fig, msg) {\n",
       "    var size = msg['size'];\n",
       "    if (size[0] != fig.canvas.width || size[1] != fig.canvas.height) {\n",
       "        fig._resize_canvas(size[0], size[1]);\n",
       "        fig.send_message(\"refresh\", {});\n",
       "    };\n",
       "}\n",
       "\n",
       "mpl.figure.prototype.handle_rubberband = function(fig, msg) {\n",
       "    var x0 = msg['x0'] / mpl.ratio;\n",
       "    var y0 = (fig.canvas.height - msg['y0']) / mpl.ratio;\n",
       "    var x1 = msg['x1'] / mpl.ratio;\n",
       "    var y1 = (fig.canvas.height - msg['y1']) / mpl.ratio;\n",
       "    x0 = Math.floor(x0) + 0.5;\n",
       "    y0 = Math.floor(y0) + 0.5;\n",
       "    x1 = Math.floor(x1) + 0.5;\n",
       "    y1 = Math.floor(y1) + 0.5;\n",
       "    var min_x = Math.min(x0, x1);\n",
       "    var min_y = Math.min(y0, y1);\n",
       "    var width = Math.abs(x1 - x0);\n",
       "    var height = Math.abs(y1 - y0);\n",
       "\n",
       "    fig.rubberband_context.clearRect(\n",
       "        0, 0, fig.canvas.width, fig.canvas.height);\n",
       "\n",
       "    fig.rubberband_context.strokeRect(min_x, min_y, width, height);\n",
       "}\n",
       "\n",
       "mpl.figure.prototype.handle_figure_label = function(fig, msg) {\n",
       "    // Updates the figure title.\n",
       "    fig.header.textContent = msg['label'];\n",
       "}\n",
       "\n",
       "mpl.figure.prototype.handle_cursor = function(fig, msg) {\n",
       "    var cursor = msg['cursor'];\n",
       "    switch(cursor)\n",
       "    {\n",
       "    case 0:\n",
       "        cursor = 'pointer';\n",
       "        break;\n",
       "    case 1:\n",
       "        cursor = 'default';\n",
       "        break;\n",
       "    case 2:\n",
       "        cursor = 'crosshair';\n",
       "        break;\n",
       "    case 3:\n",
       "        cursor = 'move';\n",
       "        break;\n",
       "    }\n",
       "    fig.rubberband_canvas.style.cursor = cursor;\n",
       "}\n",
       "\n",
       "mpl.figure.prototype.handle_message = function(fig, msg) {\n",
       "    fig.message.textContent = msg['message'];\n",
       "}\n",
       "\n",
       "mpl.figure.prototype.handle_draw = function(fig, msg) {\n",
       "    // Request the server to send over a new figure.\n",
       "    fig.send_draw_message();\n",
       "}\n",
       "\n",
       "mpl.figure.prototype.handle_image_mode = function(fig, msg) {\n",
       "    fig.image_mode = msg['mode'];\n",
       "}\n",
       "\n",
       "mpl.figure.prototype.updated_canvas_event = function() {\n",
       "    // Called whenever the canvas gets updated.\n",
       "    this.send_message(\"ack\", {});\n",
       "}\n",
       "\n",
       "// A function to construct a web socket function for onmessage handling.\n",
       "// Called in the figure constructor.\n",
       "mpl.figure.prototype._make_on_message_function = function(fig) {\n",
       "    return function socket_on_message(evt) {\n",
       "        if (evt.data instanceof Blob) {\n",
       "            /* FIXME: We get \"Resource interpreted as Image but\n",
       "             * transferred with MIME type text/plain:\" errors on\n",
       "             * Chrome.  But how to set the MIME type?  It doesn't seem\n",
       "             * to be part of the websocket stream */\n",
       "            evt.data.type = \"image/png\";\n",
       "\n",
       "            /* Free the memory for the previous frames */\n",
       "            if (fig.imageObj.src) {\n",
       "                (window.URL || window.webkitURL).revokeObjectURL(\n",
       "                    fig.imageObj.src);\n",
       "            }\n",
       "\n",
       "            fig.imageObj.src = (window.URL || window.webkitURL).createObjectURL(\n",
       "                evt.data);\n",
       "            fig.updated_canvas_event();\n",
       "            fig.waiting = false;\n",
       "            return;\n",
       "        }\n",
       "        else if (typeof evt.data === 'string' && evt.data.slice(0, 21) == \"data:image/png;base64\") {\n",
       "            fig.imageObj.src = evt.data;\n",
       "            fig.updated_canvas_event();\n",
       "            fig.waiting = false;\n",
       "            return;\n",
       "        }\n",
       "\n",
       "        var msg = JSON.parse(evt.data);\n",
       "        var msg_type = msg['type'];\n",
       "\n",
       "        // Call the  \"handle_{type}\" callback, which takes\n",
       "        // the figure and JSON message as its only arguments.\n",
       "        try {\n",
       "            var callback = fig[\"handle_\" + msg_type];\n",
       "        } catch (e) {\n",
       "            console.log(\"No handler for the '\" + msg_type + \"' message type: \", msg);\n",
       "            return;\n",
       "        }\n",
       "\n",
       "        if (callback) {\n",
       "            try {\n",
       "                // console.log(\"Handling '\" + msg_type + \"' message: \", msg);\n",
       "                callback(fig, msg);\n",
       "            } catch (e) {\n",
       "                console.log(\"Exception inside the 'handler_\" + msg_type + \"' callback:\", e, e.stack, msg);\n",
       "            }\n",
       "        }\n",
       "    };\n",
       "}\n",
       "\n",
       "// from http://stackoverflow.com/questions/1114465/getting-mouse-location-in-canvas\n",
       "mpl.findpos = function(e) {\n",
       "    //this section is from http://www.quirksmode.org/js/events_properties.html\n",
       "    var targ;\n",
       "    if (!e)\n",
       "        e = window.event;\n",
       "    if (e.target)\n",
       "        targ = e.target;\n",
       "    else if (e.srcElement)\n",
       "        targ = e.srcElement;\n",
       "    if (targ.nodeType == 3) // defeat Safari bug\n",
       "        targ = targ.parentNode;\n",
       "\n",
       "    // jQuery normalizes the pageX and pageY\n",
       "    // pageX,Y are the mouse positions relative to the document\n",
       "    // offset() returns the position of the element relative to the document\n",
       "    var x = e.pageX - $(targ).offset().left;\n",
       "    var y = e.pageY - $(targ).offset().top;\n",
       "\n",
       "    return {\"x\": x, \"y\": y};\n",
       "};\n",
       "\n",
       "/*\n",
       " * return a copy of an object with only non-object keys\n",
       " * we need this to avoid circular references\n",
       " * http://stackoverflow.com/a/24161582/3208463\n",
       " */\n",
       "function simpleKeys (original) {\n",
       "  return Object.keys(original).reduce(function (obj, key) {\n",
       "    if (typeof original[key] !== 'object')\n",
       "        obj[key] = original[key]\n",
       "    return obj;\n",
       "  }, {});\n",
       "}\n",
       "\n",
       "mpl.figure.prototype.mouse_event = function(event, name) {\n",
       "    var canvas_pos = mpl.findpos(event)\n",
       "\n",
       "    if (name === 'button_press')\n",
       "    {\n",
       "        this.canvas.focus();\n",
       "        this.canvas_div.focus();\n",
       "    }\n",
       "\n",
       "    var x = canvas_pos.x * mpl.ratio;\n",
       "    var y = canvas_pos.y * mpl.ratio;\n",
       "\n",
       "    this.send_message(name, {x: x, y: y, button: event.button,\n",
       "                             step: event.step,\n",
       "                             guiEvent: simpleKeys(event)});\n",
       "\n",
       "    /* This prevents the web browser from automatically changing to\n",
       "     * the text insertion cursor when the button is pressed.  We want\n",
       "     * to control all of the cursor setting manually through the\n",
       "     * 'cursor' event from matplotlib */\n",
       "    event.preventDefault();\n",
       "    return false;\n",
       "}\n",
       "\n",
       "mpl.figure.prototype._key_event_extra = function(event, name) {\n",
       "    // Handle any extra behaviour associated with a key event\n",
       "}\n",
       "\n",
       "mpl.figure.prototype.key_event = function(event, name) {\n",
       "\n",
       "    // Prevent repeat events\n",
       "    if (name == 'key_press')\n",
       "    {\n",
       "        if (event.which === this._key)\n",
       "            return;\n",
       "        else\n",
       "            this._key = event.which;\n",
       "    }\n",
       "    if (name == 'key_release')\n",
       "        this._key = null;\n",
       "\n",
       "    var value = '';\n",
       "    if (event.ctrlKey && event.which != 17)\n",
       "        value += \"ctrl+\";\n",
       "    if (event.altKey && event.which != 18)\n",
       "        value += \"alt+\";\n",
       "    if (event.shiftKey && event.which != 16)\n",
       "        value += \"shift+\";\n",
       "\n",
       "    value += 'k';\n",
       "    value += event.which.toString();\n",
       "\n",
       "    this._key_event_extra(event, name);\n",
       "\n",
       "    this.send_message(name, {key: value,\n",
       "                             guiEvent: simpleKeys(event)});\n",
       "    return false;\n",
       "}\n",
       "\n",
       "mpl.figure.prototype.toolbar_button_onclick = function(name) {\n",
       "    if (name == 'download') {\n",
       "        this.handle_save(this, null);\n",
       "    } else {\n",
       "        this.send_message(\"toolbar_button\", {name: name});\n",
       "    }\n",
       "};\n",
       "\n",
       "mpl.figure.prototype.toolbar_button_onmouseover = function(tooltip) {\n",
       "    this.message.textContent = tooltip;\n",
       "};\n",
       "mpl.toolbar_items = [[\"Home\", \"Reset original view\", \"fa fa-home icon-home\", \"home\"], [\"Back\", \"Back to  previous view\", \"fa fa-arrow-left icon-arrow-left\", \"back\"], [\"Forward\", \"Forward to next view\", \"fa fa-arrow-right icon-arrow-right\", \"forward\"], [\"\", \"\", \"\", \"\"], [\"Pan\", \"Pan axes with left mouse, zoom with right\", \"fa fa-arrows icon-move\", \"pan\"], [\"Zoom\", \"Zoom to rectangle\", \"fa fa-square-o icon-check-empty\", \"zoom\"], [\"\", \"\", \"\", \"\"], [\"Download\", \"Download plot\", \"fa fa-floppy-o icon-save\", \"download\"]];\n",
       "\n",
       "mpl.extensions = [\"eps\", \"jpeg\", \"pdf\", \"png\", \"ps\", \"raw\", \"svg\", \"tif\"];\n",
       "\n",
       "mpl.default_extension = \"png\";var comm_websocket_adapter = function(comm) {\n",
       "    // Create a \"websocket\"-like object which calls the given IPython comm\n",
       "    // object with the appropriate methods. Currently this is a non binary\n",
       "    // socket, so there is still some room for performance tuning.\n",
       "    var ws = {};\n",
       "\n",
       "    ws.close = function() {\n",
       "        comm.close()\n",
       "    };\n",
       "    ws.send = function(m) {\n",
       "        //console.log('sending', m);\n",
       "        comm.send(m);\n",
       "    };\n",
       "    // Register the callback with on_msg.\n",
       "    comm.on_msg(function(msg) {\n",
       "        //console.log('receiving', msg['content']['data'], msg);\n",
       "        // Pass the mpl event to the overridden (by mpl) onmessage function.\n",
       "        ws.onmessage(msg['content']['data'])\n",
       "    });\n",
       "    return ws;\n",
       "}\n",
       "\n",
       "mpl.mpl_figure_comm = function(comm, msg) {\n",
       "    // This is the function which gets called when the mpl process\n",
       "    // starts-up an IPython Comm through the \"matplotlib\" channel.\n",
       "\n",
       "    var id = msg.content.data.id;\n",
       "    // Get hold of the div created by the display call when the Comm\n",
       "    // socket was opened in Python.\n",
       "    var element = $(\"#\" + id);\n",
       "    var ws_proxy = comm_websocket_adapter(comm)\n",
       "\n",
       "    function ondownload(figure, format) {\n",
       "        window.open(figure.imageObj.src);\n",
       "    }\n",
       "\n",
       "    var fig = new mpl.figure(id, ws_proxy,\n",
       "                           ondownload,\n",
       "                           element.get(0));\n",
       "\n",
       "    // Call onopen now - mpl needs it, as it is assuming we've passed it a real\n",
       "    // web socket which is closed, not our websocket->open comm proxy.\n",
       "    ws_proxy.onopen();\n",
       "\n",
       "    fig.parent_element = element.get(0);\n",
       "    fig.cell_info = mpl.find_output_cell(\"<div id='\" + id + \"'></div>\");\n",
       "    if (!fig.cell_info) {\n",
       "        console.error(\"Failed to find cell for figure\", id, fig);\n",
       "        return;\n",
       "    }\n",
       "\n",
       "    var output_index = fig.cell_info[2]\n",
       "    var cell = fig.cell_info[0];\n",
       "\n",
       "};\n",
       "\n",
       "mpl.figure.prototype.handle_close = function(fig, msg) {\n",
       "    var width = fig.canvas.width/mpl.ratio\n",
       "    fig.root.unbind('remove')\n",
       "\n",
       "    // Update the output cell to use the data from the current canvas.\n",
       "    fig.push_to_output();\n",
       "    var dataURL = fig.canvas.toDataURL();\n",
       "    // Re-enable the keyboard manager in IPython - without this line, in FF,\n",
       "    // the notebook keyboard shortcuts fail.\n",
       "    IPython.keyboard_manager.enable()\n",
       "    $(fig.parent_element).html('<img src=\"' + dataURL + '\" width=\"' + width + '\">');\n",
       "    fig.close_ws(fig, msg);\n",
       "}\n",
       "\n",
       "mpl.figure.prototype.close_ws = function(fig, msg){\n",
       "    fig.send_message('closing', msg);\n",
       "    // fig.ws.close()\n",
       "}\n",
       "\n",
       "mpl.figure.prototype.push_to_output = function(remove_interactive) {\n",
       "    // Turn the data on the canvas into data in the output cell.\n",
       "    var width = this.canvas.width/mpl.ratio\n",
       "    var dataURL = this.canvas.toDataURL();\n",
       "    this.cell_info[1]['text/html'] = '<img src=\"' + dataURL + '\" width=\"' + width + '\">';\n",
       "}\n",
       "\n",
       "mpl.figure.prototype.updated_canvas_event = function() {\n",
       "    // Tell IPython that the notebook contents must change.\n",
       "    IPython.notebook.set_dirty(true);\n",
       "    this.send_message(\"ack\", {});\n",
       "    var fig = this;\n",
       "    // Wait a second, then push the new image to the DOM so\n",
       "    // that it is saved nicely (might be nice to debounce this).\n",
       "    setTimeout(function () { fig.push_to_output() }, 1000);\n",
       "}\n",
       "\n",
       "mpl.figure.prototype._init_toolbar = function() {\n",
       "    var fig = this;\n",
       "\n",
       "    var nav_element = $('<div/>')\n",
       "    nav_element.attr('style', 'width: 100%');\n",
       "    this.root.append(nav_element);\n",
       "\n",
       "    // Define a callback function for later on.\n",
       "    function toolbar_event(event) {\n",
       "        return fig.toolbar_button_onclick(event['data']);\n",
       "    }\n",
       "    function toolbar_mouse_event(event) {\n",
       "        return fig.toolbar_button_onmouseover(event['data']);\n",
       "    }\n",
       "\n",
       "    for(var toolbar_ind in mpl.toolbar_items){\n",
       "        var name = mpl.toolbar_items[toolbar_ind][0];\n",
       "        var tooltip = mpl.toolbar_items[toolbar_ind][1];\n",
       "        var image = mpl.toolbar_items[toolbar_ind][2];\n",
       "        var method_name = mpl.toolbar_items[toolbar_ind][3];\n",
       "\n",
       "        if (!name) { continue; };\n",
       "\n",
       "        var button = $('<button class=\"btn btn-default\" href=\"#\" title=\"' + name + '\"><i class=\"fa ' + image + ' fa-lg\"></i></button>');\n",
       "        button.click(method_name, toolbar_event);\n",
       "        button.mouseover(tooltip, toolbar_mouse_event);\n",
       "        nav_element.append(button);\n",
       "    }\n",
       "\n",
       "    // Add the status bar.\n",
       "    var status_bar = $('<span class=\"mpl-message\" style=\"text-align:right; float: right;\"/>');\n",
       "    nav_element.append(status_bar);\n",
       "    this.message = status_bar[0];\n",
       "\n",
       "    // Add the close button to the window.\n",
       "    var buttongrp = $('<div class=\"btn-group inline pull-right\"></div>');\n",
       "    var button = $('<button class=\"btn btn-mini btn-primary\" href=\"#\" title=\"Stop Interaction\"><i class=\"fa fa-power-off icon-remove icon-large\"></i></button>');\n",
       "    button.click(function (evt) { fig.handle_close(fig, {}); } );\n",
       "    button.mouseover('Stop Interaction', toolbar_mouse_event);\n",
       "    buttongrp.append(button);\n",
       "    var titlebar = this.root.find($('.ui-dialog-titlebar'));\n",
       "    titlebar.prepend(buttongrp);\n",
       "}\n",
       "\n",
       "mpl.figure.prototype._root_extra_style = function(el){\n",
       "    var fig = this\n",
       "    el.on(\"remove\", function(){\n",
       "\tfig.close_ws(fig, {});\n",
       "    });\n",
       "}\n",
       "\n",
       "mpl.figure.prototype._canvas_extra_style = function(el){\n",
       "    // this is important to make the div 'focusable\n",
       "    el.attr('tabindex', 0)\n",
       "    // reach out to IPython and tell the keyboard manager to turn it's self\n",
       "    // off when our div gets focus\n",
       "\n",
       "    // location in version 3\n",
       "    if (IPython.notebook.keyboard_manager) {\n",
       "        IPython.notebook.keyboard_manager.register_events(el);\n",
       "    }\n",
       "    else {\n",
       "        // location in version 2\n",
       "        IPython.keyboard_manager.register_events(el);\n",
       "    }\n",
       "\n",
       "}\n",
       "\n",
       "mpl.figure.prototype._key_event_extra = function(event, name) {\n",
       "    var manager = IPython.notebook.keyboard_manager;\n",
       "    if (!manager)\n",
       "        manager = IPython.keyboard_manager;\n",
       "\n",
       "    // Check for shift+enter\n",
       "    if (event.shiftKey && event.which == 13) {\n",
       "        this.canvas_div.blur();\n",
       "        event.shiftKey = false;\n",
       "        // Send a \"J\" for go to next cell\n",
       "        event.which = 74;\n",
       "        event.keyCode = 74;\n",
       "        manager.command_mode();\n",
       "        manager.handle_keydown(event);\n",
       "    }\n",
       "}\n",
       "\n",
       "mpl.figure.prototype.handle_save = function(fig, msg) {\n",
       "    fig.ondownload(fig, null);\n",
       "}\n",
       "\n",
       "\n",
       "mpl.find_output_cell = function(html_output) {\n",
       "    // Return the cell and output element which can be found *uniquely* in the notebook.\n",
       "    // Note - this is a bit hacky, but it is done because the \"notebook_saving.Notebook\"\n",
       "    // IPython event is triggered only after the cells have been serialised, which for\n",
       "    // our purposes (turning an active figure into a static one), is too late.\n",
       "    var cells = IPython.notebook.get_cells();\n",
       "    var ncells = cells.length;\n",
       "    for (var i=0; i<ncells; i++) {\n",
       "        var cell = cells[i];\n",
       "        if (cell.cell_type === 'code'){\n",
       "            for (var j=0; j<cell.output_area.outputs.length; j++) {\n",
       "                var data = cell.output_area.outputs[j];\n",
       "                if (data.data) {\n",
       "                    // IPython >= 3 moved mimebundle to data attribute of output\n",
       "                    data = data.data;\n",
       "                }\n",
       "                if (data['text/html'] == html_output) {\n",
       "                    return [cell, data, j];\n",
       "                }\n",
       "            }\n",
       "        }\n",
       "    }\n",
       "}\n",
       "\n",
       "// Register the function which deals with the matplotlib target/channel.\n",
       "// The kernel may be null if the page has been refreshed.\n",
       "if (IPython.notebook.kernel != null) {\n",
       "    IPython.notebook.kernel.comm_manager.register_target('matplotlib', mpl.mpl_figure_comm);\n",
       "}\n"
      ],
      "text/plain": [
       "<IPython.core.display.Javascript object>"
      ]
     },
     "metadata": {},
     "output_type": "display_data"
    },
    {
     "data": {
      "text/html": [
       "<img src=\"data:image/png;base64,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\" width=\"640\">"
      ],
      "text/plain": [
       "<IPython.core.display.HTML object>"
      ]
     },
     "metadata": {},
     "output_type": "display_data"
    },
    {
     "data": {
      "text/plain": [
       "<matplotlib.axes._subplots.AxesSubplot at 0x109eb9550>"
      ]
     },
     "execution_count": 14,
     "metadata": {},
     "output_type": "execute_result"
    }
   ],
   "source": [
    "%matplotlib notebook\n",
    "from matplotlib import style\n",
    "style.use(\"seaborn-colorblind\")\n",
    "dataset.plot(x='acousticness', y='danceability', c='target', kind='scatter', colormap='Accent_r')"
   ]
  },
  {
   "cell_type": "code",
   "execution_count": null,
   "metadata": {
    "scrolled": false
   },
   "outputs": [],
   "source": [
    "%matplotlib notebook\n",
    "from matplotlib import style\n",
    "style.use(\"seaborn-colorblind\")\n",
    "dataset.plot(x='tempo', y='valence', c='target', kind='scatter' , colormap='Accent_r')"
   ]
  },
  {
   "cell_type": "code",
   "execution_count": null,
   "metadata": {},
   "outputs": [],
   "source": [
    "%matplotlib notebook\n",
    "from matplotlib import style\n",
    "style.use(\"seaborn-colorblind\")\n",
    "dataset.plot(x='tempo', y='speechiness', c='target', kind='scatter' , colormap='Accent')"
   ]
  },
  {
   "cell_type": "code",
   "execution_count": null,
   "metadata": {},
   "outputs": [],
   "source": [
    "%matplotlib notebook\n",
    "from matplotlib import style\n",
    "style.use(\"seaborn-colorblind\")\n",
    "dataset.plot(x='danceability', y='energy', c='target', kind='scatter' , colormap='Reds')"
   ]
  },
  {
   "cell_type": "markdown",
   "metadata": {},
   "source": [
    "# Separa a classe dos dados"
   ]
  },
  {
   "cell_type": "code",
   "execution_count": null,
   "metadata": {},
   "outputs": [],
   "source": [
    "classes = dataset['target']\n",
    "dataset.drop('target', axis=1, inplace=True)"
   ]
  },
  {
   "cell_type": "code",
   "execution_count": null,
   "metadata": {},
   "outputs": [],
   "source": [
    "dataset.head(15)"
   ]
  },
  {
   "cell_type": "markdown",
   "metadata": {},
   "source": [
    "# Pre-processamento de dados"
   ]
  },
  {
   "cell_type": "code",
   "execution_count": null,
   "metadata": {},
   "outputs": [],
   "source": [
    "def remove_features(lista_features):\n",
    "    for i in lista_features:\n",
    "        dataset.drop(i, axis=1, inplace=True)\n",
    "    return 0"
   ]
  },
  {
   "cell_type": "code",
   "execution_count": null,
   "metadata": {},
   "outputs": [],
   "source": [
    "# Remove features\n",
    "remove_features(['id','song_title'])"
   ]
  },
  {
   "cell_type": "code",
   "execution_count": null,
   "metadata": {},
   "outputs": [],
   "source": [
    "# Visualizando o dataset\n",
    "dataset.artist.head(10)"
   ]
  },
  {
   "cell_type": "code",
   "execution_count": null,
   "metadata": {},
   "outputs": [],
   "source": [
    "# Visualizando o dataset\n",
    "dataset.info()"
   ]
  },
  {
   "cell_type": "markdown",
   "metadata": {
    "collapsed": true
   },
   "source": [
    "# Label Encoder"
   ]
  },
  {
   "cell_type": "markdown",
   "metadata": {},
   "source": [
    "* Técnica para codificar valores categoricos em numéricos\n",
    "* Um exemplo seria: a lista de cores: _(‘branco’,’preto’,’amarelo’,’vermelho’,'branco')_\n",
    "* Após aplicar o LabelEncoder esta seria algo como __(1,2,3,4,1)__"
   ]
  },
  {
   "cell_type": "code",
   "execution_count": null,
   "metadata": {},
   "outputs": [],
   "source": [
    "from sklearn.preprocessing import LabelEncoder"
   ]
  },
  {
   "cell_type": "code",
   "execution_count": null,
   "metadata": {},
   "outputs": [],
   "source": [
    "enc = LabelEncoder()"
   ]
  },
  {
   "cell_type": "code",
   "execution_count": null,
   "metadata": {},
   "outputs": [],
   "source": [
    "inteiros = enc.fit_transform(dataset['artist'])"
   ]
  },
  {
   "cell_type": "code",
   "execution_count": null,
   "metadata": {},
   "outputs": [],
   "source": [
    "# Visualizando valores únicos.\n",
    "set(inteiros)"
   ]
  },
  {
   "cell_type": "code",
   "execution_count": null,
   "metadata": {},
   "outputs": [],
   "source": [
    "# Cria uma nova coluna chamada 'artist_inteiros'\n",
    "dataset['artist_inteiros'] = inteiros"
   ]
  },
  {
   "cell_type": "code",
   "execution_count": null,
   "metadata": {},
   "outputs": [],
   "source": [
    "dataset.head()"
   ]
  },
  {
   "cell_type": "code",
   "execution_count": null,
   "metadata": {},
   "outputs": [],
   "source": [
    "remove_features(['artist'])"
   ]
  },
  {
   "cell_type": "code",
   "execution_count": null,
   "metadata": {},
   "outputs": [],
   "source": [
    "# Visualizando o Dataset alterado.\n",
    "dataset.head(20)"
   ]
  },
  {
   "cell_type": "markdown",
   "metadata": {},
   "source": [
    "# One Hot Encoding"
   ]
  },
  {
   "cell_type": "markdown",
   "metadata": {},
   "source": [
    "* Técnica usada para codificar valores categóricos em númericos.\n",
    "* Cria uma matriz de presença.\n",
    "* Resolve o problema __ordenação__ nos dados gerados pelo LabelEncoder."
   ]
  },
  {
   "cell_type": "code",
   "execution_count": null,
   "metadata": {},
   "outputs": [],
   "source": [
    "# Apaque a coluna 'Artist'\n",
    "remove_features(['artist'])\n"
   ]
  },
  {
   "cell_type": "code",
   "execution_count": null,
   "metadata": {},
   "outputs": [],
   "source": [
    "# Importa o pacote OneHotEncoder\n",
    "from sklearn.preprocessing import OneHotEncoder"
   ]
  },
  {
   "cell_type": "code",
   "execution_count": null,
   "metadata": {},
   "outputs": [],
   "source": [
    "# Instancia um objeto do tipo OnehotEncoder\n",
    "ohe = OneHotEncoder()"
   ]
  },
  {
   "cell_type": "code",
   "execution_count": null,
   "metadata": {},
   "outputs": [],
   "source": [
    "dataset.values"
   ]
  },
  {
   "cell_type": "code",
   "execution_count": null,
   "metadata": {},
   "outputs": [],
   "source": [
    "# Transforma em arrayn numpy o dataset.\n",
    "dataset_array = dataset.values"
   ]
  },
  {
   "cell_type": "code",
   "execution_count": null,
   "metadata": {},
   "outputs": [],
   "source": [
    "# Pega o numero de linhas.\n",
    "num_rows = dataset_array.shape[0]"
   ]
  },
  {
   "cell_type": "code",
   "execution_count": null,
   "metadata": {},
   "outputs": [],
   "source": [
    "# Visualiza coluna de inteiros\n",
    "dataset_array[:][:,13]\n"
   ]
  },
  {
   "cell_type": "code",
   "execution_count": null,
   "metadata": {},
   "outputs": [],
   "source": [
    "# Transforma a matriz em uma dimensão\n",
    "inteiros = inteiros.reshape(len(inteiros),1)"
   ]
  },
  {
   "cell_type": "code",
   "execution_count": null,
   "metadata": {},
   "outputs": [],
   "source": [
    "# Criar as novas features a partir da matriz de presença\n",
    "novas_features = ohe.fit_transform(inteiros)"
   ]
  },
  {
   "cell_type": "code",
   "execution_count": null,
   "metadata": {},
   "outputs": [],
   "source": [
    "# Imprime as novas features\n",
    "novas_features"
   ]
  },
  {
   "cell_type": "code",
   "execution_count": null,
   "metadata": {},
   "outputs": [],
   "source": [
    "# Concatena as novas features ao array\n",
    "dataset_array = np.concatenate([dataset_array, novas_features.toarray()], axis=1)"
   ]
  },
  {
   "cell_type": "code",
   "execution_count": null,
   "metadata": {},
   "outputs": [],
   "source": [
    "# Visualizando a quantidade de linhas e colunas da base\n",
    "dataset_array.shape"
   ]
  },
  {
   "cell_type": "code",
   "execution_count": null,
   "metadata": {},
   "outputs": [],
   "source": [
    "# Transforma em dataframe e visualiza as colunas\n",
    "dataf = pd.DataFrame(dataset_array)"
   ]
  },
  {
   "cell_type": "code",
   "execution_count": null,
   "metadata": {},
   "outputs": [],
   "source": [
    "dataf.head(100)"
   ]
  },
  {
   "cell_type": "markdown",
   "metadata": {},
   "source": [
    "# Pandas Get_dummies"
   ]
  },
  {
   "cell_type": "markdown",
   "metadata": {},
   "source": [
    "* Cria uma matriz de presença como feito com o OHE."
   ]
  },
  {
   "cell_type": "code",
   "execution_count": null,
   "metadata": {},
   "outputs": [],
   "source": [
    "dataset.head()"
   ]
  },
  {
   "cell_type": "code",
   "execution_count": null,
   "metadata": {},
   "outputs": [],
   "source": [
    "# Aplicando o get_dummies nos dados.\n",
    "dataset = pd.get_dummies(dataset, columns=['artist'], prefix=['artist'])"
   ]
  },
  {
   "cell_type": "code",
   "execution_count": null,
   "metadata": {},
   "outputs": [],
   "source": [
    "# Visualizando 'features' geradas.\n",
    "dataset.columns"
   ]
  },
  {
   "cell_type": "code",
   "execution_count": null,
   "metadata": {},
   "outputs": [],
   "source": [
    "len(dataset.columns)"
   ]
  },
  {
   "cell_type": "code",
   "execution_count": null,
   "metadata": {},
   "outputs": [],
   "source": [
    "# Visualizando as colunas\n",
    "dataset.dtypes"
   ]
  },
  {
   "cell_type": "code",
   "execution_count": null,
   "metadata": {},
   "outputs": [],
   "source": [
    "# checando missing values\n",
    "dataset.isnull().sum()"
   ]
  },
  {
   "cell_type": "code",
   "execution_count": null,
   "metadata": {},
   "outputs": [],
   "source": [
    "# coluna artist\n",
    "len(dataset.columns)"
   ]
  },
  {
   "cell_type": "markdown",
   "metadata": {},
   "source": [
    "# Pipeline"
   ]
  },
  {
   "cell_type": "code",
   "execution_count": null,
   "metadata": {},
   "outputs": [],
   "source": [
    "# Importe as bibliotecas de Pipelines e Pré-processadores\n",
    "from sklearn.pipeline import Pipeline\n",
    "from sklearn.preprocessing import StandardScaler\n",
    "from sklearn.preprocessing import MinMaxScaler"
   ]
  },
  {
   "cell_type": "code",
   "execution_count": null,
   "metadata": {},
   "outputs": [],
   "source": [
    "# Treinando o algoritmo de SVM.\n",
    "clf = svm.SVC().fit(dataset,classes)"
   ]
  },
  {
   "cell_type": "code",
   "execution_count": null,
   "metadata": {},
   "outputs": [],
   "source": [
    "clf"
   ]
  },
  {
   "cell_type": "code",
   "execution_count": null,
   "metadata": {},
   "outputs": [],
   "source": [
    "Acuracia(clf,dataset,classes)"
   ]
  },
  {
   "cell_type": "code",
   "execution_count": null,
   "metadata": {},
   "outputs": [],
   "source": [
    "# Criando um pipeline\n",
    "pip_1 = Pipeline([\n",
    "    ('scaler',StandardScaler()),\n",
    "    ('clf', svm.SVC())\n",
    "])"
   ]
  },
  {
   "cell_type": "code",
   "execution_count": null,
   "metadata": {},
   "outputs": [],
   "source": [
    "# Imprimindo Etapas do Pipeline\n",
    "pip_1.steps"
   ]
  },
  {
   "cell_type": "code",
   "execution_count": null,
   "metadata": {},
   "outputs": [],
   "source": [
    "# Chama a função acuracia passando os dados de musicas e as classes\n",
    "# Usando o pipeline pip_1\n",
    "Acuracia(pip_1,dataset,classes)"
   ]
  },
  {
   "cell_type": "code",
   "execution_count": null,
   "metadata": {},
   "outputs": [],
   "source": [
    "# Criando vários Pipelines\n",
    "pip_2 = Pipeline([\n",
    "    ('min_max_scaler', MinMaxScaler()),\n",
    "    ('clf', svm.SVC())\n",
    "])\n",
    "\n",
    "pip_3 = Pipeline([\n",
    "    ('scaler',StandardScaler()),\n",
    "    ('clf', svm.SVC(kernel='rbf'))\n",
    "])\n",
    "\n",
    "pip_4 = Pipeline([\n",
    "    ('scaler',StandardScaler()),\n",
    "    ('clf', svm.SVC(kernel='poly'))\n",
    "])\n",
    "\n",
    "pip_5 = Pipeline([\n",
    "    ('scaler',StandardScaler()),\n",
    "    ('clf', svm.SVC(kernel='linear'))\n",
    "])"
   ]
  },
  {
   "cell_type": "code",
   "execution_count": null,
   "metadata": {},
   "outputs": [],
   "source": [
    "# Chama a função acuracia passando os dados de musicas e as classes\n",
    "# Usando o pipeline pip_2\n",
    "Acuracia(pip_2,dataset,classes)"
   ]
  },
  {
   "cell_type": "markdown",
   "metadata": {},
   "source": [
    "# Teste com apenas labelEncoder nos dados"
   ]
  },
  {
   "cell_type": "code",
   "execution_count": null,
   "metadata": {},
   "outputs": [],
   "source": [
    "# Teste com apenas LabelEncoder na coluna 'artist' usando o pipeline 'pip_1'\n",
    "Acuracia(pip_1,dataset,classes)"
   ]
  },
  {
   "cell_type": "code",
   "execution_count": null,
   "metadata": {},
   "outputs": [],
   "source": [
    "# # Teste com apenas LabelEncoder na coluna 'artist' usando o pipeline 'pip_1'\n",
    "Acuracia(pip_2,dataset,classes)"
   ]
  },
  {
   "cell_type": "markdown",
   "metadata": {
    "collapsed": true
   },
   "source": [
    "# Testando o Desempenho dos Kernels"
   ]
  },
  {
   "cell_type": "code",
   "execution_count": null,
   "metadata": {},
   "outputs": [],
   "source": [
    "# Testando o Kernel RBF\n",
    "Acuracia(pip_3,dataset,classes)"
   ]
  },
  {
   "cell_type": "code",
   "execution_count": null,
   "metadata": {},
   "outputs": [],
   "source": [
    "# Teste de kernel poly\n",
    "Acuracia(pip_4,dataset,classes)"
   ]
  },
  {
   "cell_type": "code",
   "execution_count": null,
   "metadata": {},
   "outputs": [],
   "source": [
    "# Teste de Kernel linear\n",
    "Acuracia(pip_5,dataset,classes)"
   ]
  },
  {
   "cell_type": "markdown",
   "metadata": {},
   "source": [
    "\n",
    "# Tunning"
   ]
  },
  {
   "cell_type": "code",
   "execution_count": null,
   "metadata": {},
   "outputs": [],
   "source": [
    "# Importa o utilitário GridSearchCV\n",
    "from sklearn.model_selection import GridSearchCV"
   ]
  },
  {
   "cell_type": "code",
   "execution_count": null,
   "metadata": {},
   "outputs": [],
   "source": [
    "# Lista de Valores de C\n",
    "lista_C = [0.001, 0.01, 0.1, 1, 10, 100]\n",
    "\n",
    "# Lista de Valores de gamma\n",
    "lista_gamma = [0.001, 0.01, 0.1, 1, 10, 100]"
   ]
  },
  {
   "cell_type": "code",
   "execution_count": null,
   "metadata": {},
   "outputs": [],
   "source": [
    "# Define um dicionário que recebe as listas de parâmetros e valores.\n",
    "parametros_grid = dict(clf__C=lista_C, clf__gamma=lista_gamma)"
   ]
  },
  {
   "cell_type": "code",
   "execution_count": null,
   "metadata": {},
   "outputs": [],
   "source": [
    "parametros_grid"
   ]
  },
  {
   "cell_type": "code",
   "execution_count": null,
   "metadata": {},
   "outputs": [],
   "source": [
    "# Objeto Grid recebe parâmetros de Pipeline, e configurações de cross validation\n",
    "grid = GridSearchCV(pip_3, parametros_grid, cv=10, scoring='accuracy')"
   ]
  },
  {
   "cell_type": "code",
   "execution_count": null,
   "metadata": {},
   "outputs": [],
   "source": [
    "# Aplica o gridsearch passando os dados de treino e classes.\n",
    "grid.fit(dataset,classes)"
   ]
  },
  {
   "cell_type": "markdown",
   "metadata": {},
   "source": [
    "# Resultados de Grid"
   ]
  },
  {
   "cell_type": "code",
   "execution_count": null,
   "metadata": {},
   "outputs": [],
   "source": [
    "# Imprime os scores por combinações\n",
    "grid.grid_scores_"
   ]
  },
  {
   "cell_type": "code",
   "execution_count": null,
   "metadata": {},
   "outputs": [],
   "source": [
    "# Imprime os melhores parâmetros\n",
    "grid.best_params_"
   ]
  },
  {
   "cell_type": "code",
   "execution_count": null,
   "metadata": {},
   "outputs": [],
   "source": [
    "grid.best_score_"
   ]
  }
 ],
 "metadata": {
  "kernelspec": {
   "display_name": "Python 3",
   "language": "python",
   "name": "python3"
  },
  "language_info": {
   "codemirror_mode": {
    "name": "ipython",
    "version": 3
   },
   "file_extension": ".py",
   "mimetype": "text/x-python",
   "name": "python",
   "nbconvert_exporter": "python",
   "pygments_lexer": "ipython3",
   "version": "3.7.3"
  }
 },
 "nbformat": 4,
 "nbformat_minor": 2
}
