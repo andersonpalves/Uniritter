{
 "cells": [
  {
   "cell_type": "code",
   "execution_count": null,
   "metadata": {},
   "outputs": [],
   "source": [
    "import pandas as pd\n",
    "from sklearn import metrics\n",
    "from sklearn.model_selection import train_test_split\n",
    "from sklearn.tree import DecisionTreeClassifier"
   ]
  },
  {
   "cell_type": "code",
   "execution_count": null,
   "metadata": {},
   "outputs": [],
   "source": [
    "# carrega o dataset\n",
    "dataset = pd.read_csv(\"diabetes.csv\", header=0)\n",
    "\n",
    "dataset = dataset.rename(columns={\"Pregnancies\":\"Gestacoes\",\n",
    "                                  \"Glucose\":\"Glicose\",\n",
    "                                  \"BloodPressure\":\"PressaoSanguinea\",\n",
    "                                  \"SkinThickness\":\"EspessuraPele\",\n",
    "                                  \"Insulin\":\"Insulina\",\n",
    "                                  \"BMI\":\"IMC\",\n",
    "                                  \"DiabetesPedigreeFunction\":\"FuncaoInfluenciaGenetica\",\n",
    "                                  \"Age\":\"Idade\",\n",
    "                                  \"Outcome\":\"DiagnosticoDiabetes\"})"
   ]
  },
  {
   "cell_type": "code",
   "execution_count": null,
   "metadata": {},
   "outputs": [],
   "source": [
    "X = dataset[[\"Gestacoes\",\"Glicose\",\"PressaoSanguinea\",\"EspessuraPele\",\"Insulina\",\"IMC\",\"FuncaoInfluenciaGenetica\",\"Idade\"]]\n",
    "y = dataset[[\"DiagnosticoDiabetes\"]]"
   ]
  },
  {
   "cell_type": "code",
   "execution_count": null,
   "metadata": {},
   "outputs": [],
   "source": []
  },
  {
   "cell_type": "code",
   "execution_count": null,
   "metadata": {},
   "outputs": [],
   "source": [
    "# EXPORTACAO DE UM MODELO DE ML\n",
    "from joblib import dump\n",
    "\n",
    "model = DecisionTreeClassifier()\n",
    "model = model.fit(X,y)\n",
    "\n",
    "dump(model, 'model.joblib')"
   ]
  },
  {
   "cell_type": "code",
   "execution_count": null,
   "metadata": {},
   "outputs": [],
   "source": [
    "%system python.exe script.py -p 1 -g 126 -s 60 -e 0 -i 0 -m 30.1 -f 0.349 -a 47"
   ]
  }
 ],
 "metadata": {
  "kernelspec": {
   "display_name": "Python 3",
   "language": "python",
   "name": "python3"
  },
  "language_info": {
   "codemirror_mode": {
    "name": "ipython",
    "version": 3
   },
   "file_extension": ".py",
   "mimetype": "text/x-python",
   "name": "python",
   "nbconvert_exporter": "python",
   "pygments_lexer": "ipython3",
   "version": "3.7.3"
  }
 },
 "nbformat": 4,
 "nbformat_minor": 2
}
